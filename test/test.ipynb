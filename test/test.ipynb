{
 "cells": [
  {
   "cell_type": "code",
   "execution_count": 67,
   "id": "84730cff",
   "metadata": {},
   "outputs": [],
   "source": [
    "import boto3\n",
    "import json"
   ]
  },
  {
   "cell_type": "code",
   "execution_count": 68,
   "id": "465662c3",
   "metadata": {},
   "outputs": [],
   "source": [
    "config = json.loads(open('config.json', 'r').read())\n",
    "config[\"CallerReference\"] = str(uuid.uuid4())\n",
    "config[\"WebACLId\"] = \"arn:aws:wafv2:us-east-1:272480895129:global/webacl/WebACLWithAMR/4bee3335-42c4-4912-99b0-5cbea3e2ba44\""
   ]
  },
  {
   "cell_type": "code",
   "execution_count": 69,
   "id": "fd829a24",
   "metadata": {},
   "outputs": [
    {
     "name": "stdout",
     "output_type": "stream",
     "text": [
      "{'CallerReference': '665c8a0a-3ebd-48c0-bd85-2039b79d8cf4', 'Aliases': {'Quantity': 0}, 'DefaultRootObject': 'index.html', 'Origins': {'Quantity': 1, 'Items': [{'Id': 'myCustomOrigin', 'DomainName': 'main.d19sjvnqyw7ddo.amplifyapp.com', 'OriginPath': '', 'CustomHeaders': {'Quantity': 0}, 'CustomOriginConfig': {'HTTPPort': 80, 'HTTPSPort': 443, 'OriginProtocolPolicy': 'match-viewer', 'OriginSslProtocols': {'Quantity': 3, 'Items': ['TLSv1', 'TLSv1.1', 'TLSv1.2']}, 'OriginReadTimeout': 30, 'OriginKeepaliveTimeout': 5}, 'ConnectionAttempts': 3, 'ConnectionTimeout': 10, 'OriginShield': {'Enabled': False}}]}, 'OriginGroups': {'Quantity': 0}, 'DefaultCacheBehavior': {'TargetOriginId': 'myCustomOrigin', 'TrustedSigners': {'Enabled': False, 'Quantity': 0}, 'TrustedKeyGroups': {'Enabled': False, 'Quantity': 0}, 'ViewerProtocolPolicy': 'redirect-to-https', 'AllowedMethods': {'Quantity': 2, 'Items': ['HEAD', 'GET'], 'CachedMethods': {'Quantity': 2, 'Items': ['HEAD', 'GET']}}, 'SmoothStreaming': False, 'Compress': True, 'LambdaFunctionAssociations': {'Quantity': 0}, 'FieldLevelEncryptionId': '', 'ForwardedValues': {'QueryString': True, 'Cookies': {'Forward': 'all'}, 'Headers': {'Quantity': 0}, 'QueryStringCacheKeys': {'Quantity': 0}}, 'MinTTL': 600, 'DefaultTTL': 86400, 'MaxTTL': 31536000}, 'CacheBehaviors': {'Quantity': 0}, 'CustomErrorResponses': {'Quantity': 2, 'Items': [{'ErrorCode': 403, 'ResponsePagePath': '/403.html', 'ResponseCode': '403', 'ErrorCachingMinTTL': 60}, {'ErrorCode': 404, 'ResponsePagePath': '/404.html', 'ResponseCode': '404', 'ErrorCachingMinTTL': 60}]}, 'Comment': 'Distribution for static website', 'Logging': {'Enabled': True, 'IncludeCookies': False, 'Bucket': 'edgehackathon-customresourcestack-rn-s3bucketlogs-rtg9mbnt1t44.s3.amazonaws.com', 'Prefix': 'cdn/'}, 'PriceClass': 'PriceClass_All', 'Enabled': True, 'ViewerCertificate': {'CloudFrontDefaultCertificate': True, 'MinimumProtocolVersion': 'TLSv1', 'CertificateSource': 'cloudfront'}, 'Restrictions': {'GeoRestriction': {'RestrictionType': 'none', 'Quantity': 0}}, 'WebACLId': 'arn:aws:wafv2:us-east-1:272480895129:global/webacl/WebACLWithAMR/4bee3335-42c4-4912-99b0-5cbea3e2ba44', 'HttpVersion': 'http2', 'IsIPV6Enabled': True}\n"
     ]
    }
   ],
   "source": [
    "print(config)"
   ]
  },
  {
   "cell_type": "code",
   "execution_count": 70,
   "id": "b9e4c1c4",
   "metadata": {},
   "outputs": [],
   "source": [
    "cf = boto3.client('cloudfront')"
   ]
  },
  {
   "cell_type": "code",
   "execution_count": 71,
   "id": "d8dda2de",
   "metadata": {},
   "outputs": [],
   "source": [
    "response = cf.create_distribution(DistributionConfig=config)"
   ]
  },
  {
   "cell_type": "code",
   "execution_count": null,
   "id": "7ceeff71",
   "metadata": {},
   "outputs": [],
   "source": []
  }
 ],
 "metadata": {
  "kernelspec": {
   "display_name": "Python 3",
   "language": "python",
   "name": "python3"
  },
  "language_info": {
   "codemirror_mode": {
    "name": "ipython",
    "version": 3
   },
   "file_extension": ".py",
   "mimetype": "text/x-python",
   "name": "python",
   "nbconvert_exporter": "python",
   "pygments_lexer": "ipython3",
   "version": "3.9.4"
  }
 },
 "nbformat": 4,
 "nbformat_minor": 5
}
